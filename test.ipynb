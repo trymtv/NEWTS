{
 "cells": [
  {
   "cell_type": "code",
   "execution_count": 10,
   "metadata": {},
   "outputs": [],
   "source": [
    "from ldamodel import TopicModel\n",
    "import numpy as np"
   ]
  },
  {
   "cell_type": "code",
   "execution_count": 2,
   "metadata": {},
   "outputs": [
    {
     "name": "stdout",
     "output_type": "stream",
     "text": [
      "Loaded the LDA model.\n",
      "Loaded dictionary.\n"
     ]
    }
   ],
   "source": [
    "model = TopicModel(model_path='./testmodel/lda.model', dict_path='./testmodel/dictionary.dic')"
   ]
  },
  {
   "cell_type": "code",
   "execution_count": 5,
   "metadata": {},
   "outputs": [],
   "source": [
    "w_t_p = model.get_word_topic_prob()"
   ]
  },
  {
   "cell_type": "code",
   "execution_count": 11,
   "metadata": {},
   "outputs": [],
   "source": [
    "test = w_t_p.sum(axis=0)"
   ]
  },
  {
   "cell_type": "code",
   "execution_count": null,
   "metadata": {},
   "outputs": [],
   "source": [
    "import matplotlib.pyplot as plt"
   ]
  },
  {
   "cell_type": "code",
   "execution_count": 14,
   "metadata": {},
   "outputs": [
    {
     "data": {
      "text/plain": [
       "(array([405612,   1592,   1286, ...,      0,      0,      1]),\n",
       " array([7.25960205e-06, 6.94813977e-05, 1.31703193e-04, ...,\n",
       "        6.22100772e-01, 6.22162994e-01, 6.22225216e-01]))"
      ]
     },
     "execution_count": 14,
     "metadata": {},
     "output_type": "execute_result"
    }
   ],
   "source": [
    "np.histogram(test, bins=10000)"
   ]
  },
  {
   "cell_type": "code",
   "execution_count": 2,
   "metadata": {},
   "outputs": [
    {
     "name": "stdout",
     "output_type": "stream",
     "text": [
      "tensor([[0., 4., 0., 0.],\n",
      "        [0., 0., 5., 0.],\n",
      "        [0., 0., 0., 6.]])\n",
      "tensor(indices=tensor([[0, 1, 2],\n",
      "                       [1, 2, 3]]),\n",
      "       values=tensor([4., 5., 6.]),\n",
      "       size=(3, 4), nnz=3, layout=torch.sparse_coo)\n"
     ]
    }
   ],
   "source": [
    "import torch\n",
    "\n",
    "# Your list of indices and values\n",
    "indices = [[0, 1, 2], [1, 2, 3]]\n",
    "values = [4.0, 5.0, 6.0]\n",
    "\n",
    "# Assuming the tensor size is known (3 rows, 4 columns)\n",
    "tensor_size = (3, 4)\n",
    "\n",
    "# Create a sparse COO tensor\n",
    "sparse_tensor = torch.sparse_coo_tensor(indices, values, size=tensor_size)\n",
    "\n",
    "# Convert the sparse tensor to a dense tensor\n",
    "dense_tensor = sparse_tensor.to_dense()\n",
    "\n",
    "print(dense_tensor)\n",
    "print(sparse_tensor)"
   ]
  },
  {
   "cell_type": "code",
   "execution_count": null,
   "metadata": {},
   "outputs": [],
   "source": []
  }
 ],
 "metadata": {
  "kernelspec": {
   "display_name": "Python 3",
   "language": "python",
   "name": "python3"
  },
  "language_info": {
   "codemirror_mode": {
    "name": "ipython",
    "version": 3
   },
   "file_extension": ".py",
   "mimetype": "text/x-python",
   "name": "python",
   "nbconvert_exporter": "python",
   "pygments_lexer": "ipython3",
   "version": "3.9.13"
  }
 },
 "nbformat": 4,
 "nbformat_minor": 2
}
