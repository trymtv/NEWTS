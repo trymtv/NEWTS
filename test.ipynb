{
 "cells": [
  {
   "cell_type": "code",
   "execution_count": 1,
   "metadata": {},
   "outputs": [],
   "source": [
    "from ldamodel import TopicModel\n",
    "import numpy as np\n",
    "from read import read_test\n",
    "from read import read_train"
   ]
  },
  {
   "cell_type": "code",
   "execution_count": 2,
   "metadata": {},
   "outputs": [
    {
     "name": "stdout",
     "output_type": "stream",
     "text": [
      "Loaded the LDA model.\n",
      "Loaded dictionary.\n",
      "Generating new word to topic probability matrix.\n"
     ]
    }
   ],
   "source": [
    "model = TopicModel(model_path='./testmodel/lda.model', dict_path='./testmodel/dictionary.dic', num_topics=100, vocab_per_topic_size=10)"
   ]
  },
  {
   "cell_type": "code",
   "execution_count": 17,
   "metadata": {},
   "outputs": [
    {
     "data": {
      "text/plain": [
       "['jumpjump',\n",
       " 'jumpsuits19',\n",
       " 'jumpers',\n",
       " 'showjumpers',\n",
       " 'basejumps',\n",
       " 'jumperjumpers',\n",
       " 'jumpstarts',\n",
       " 'liljumperayla',\n",
       " 'jumpstart',\n",
       " 'jumponthebandwagon',\n",
       " 'jumpoff',\n",
       " 'jumping',\n",
       " 'jumpinjg',\n",
       " 'smokejumper',\n",
       " 'jumpsuits',\n",
       " 'jumpot',\n",
       " 'jumpol',\n",
       " 'jump',\n",
       " 'basejump',\n",
       " 'jumpng',\n",
       " 'outjumped',\n",
       " 'unjumped',\n",
       " 'jumpman23',\n",
       " 'jumpshot',\n",
       " 'outjump',\n",
       " 'jumpfox',\n",
       " 'jumpthe',\n",
       " 'jump35',\n",
       " 'jumpjet',\n",
       " 'jumpstreeters',\n",
       " 'jumpman',\n",
       " 'basejumping',\n",
       " 'jumpfrompaper',\n",
       " 'newbiejumper',\n",
       " 'jumpstartfund',\n",
       " 'thejump',\n",
       " 'skyjump',\n",
       " 'showjumping',\n",
       " 'jumpstarted',\n",
       " 'outjumps',\n",
       " 'jumpseat',\n",
       " 'jump4heroes',\n",
       " 'outjumping',\n",
       " 'basejumper',\n",
       " 'jumpsuit',\n",
       " 'papijump',\n",
       " 'jumpier',\n",
       " 'jumpy',\n",
       " 'jumps',\n",
       " 'jumpiness',\n",
       " 'jumpmaster',\n",
       " 'smokejumpers',\n",
       " 'jumpstarting',\n",
       " 'jumpin',\n",
       " 'showjumper',\n",
       " 'jumpei',\n",
       " 'jumped',\n",
       " 'jumper']"
      ]
     },
     "execution_count": 17,
     "metadata": {},
     "output_type": "execute_result"
    }
   ],
   "source": [
    "[key for key in model.topic_model_dictionary.token2id.keys() if \"jump\" in key]"
   ]
  },
  {
   "cell_type": "code",
   "execution_count": null,
   "metadata": {},
   "outputs": [],
   "source": []
  }
 ],
 "metadata": {
  "kernelspec": {
   "display_name": "Python 3",
   "language": "python",
   "name": "python3"
  },
  "language_info": {
   "codemirror_mode": {
    "name": "ipython",
    "version": 3
   },
   "file_extension": ".py",
   "mimetype": "text/x-python",
   "name": "python",
   "nbconvert_exporter": "python",
   "pygments_lexer": "ipython3",
   "version": "3.9.13"
  }
 },
 "nbformat": 4,
 "nbformat_minor": 2
}
