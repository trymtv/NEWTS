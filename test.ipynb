{
 "cells": [
  {
   "cell_type": "code",
   "execution_count": 1,
   "metadata": {},
   "outputs": [],
   "source": [
    "from ldamodel import TopicModel\n",
    "import numpy as np\n",
    "from read import read_test"
   ]
  },
  {
   "cell_type": "code",
   "execution_count": 2,
   "metadata": {},
   "outputs": [
    {
     "name": "stdout",
     "output_type": "stream",
     "text": [
      "Loaded the LDA model.\n",
      "Loaded dictionary.\n"
     ]
    }
   ],
   "source": [
    "model = TopicModel(model_path='./testmodel/lda.model', dict_path='./testmodel/dictionary.dic', num_topics=100, vocab_per_topic_size=10)"
   ]
  },
  {
   "cell_type": "code",
   "execution_count": 3,
   "metadata": {},
   "outputs": [],
   "source": [
    "w_t_p = model.get_word_topic_prob()"
   ]
  },
  {
   "cell_type": "code",
   "execution_count": 4,
   "metadata": {},
   "outputs": [],
   "source": [
    "test_pd = read_test()"
   ]
  },
  {
   "cell_type": "code",
   "execution_count": 5,
   "metadata": {},
   "outputs": [],
   "source": [
    "test_article = test_pd.article.iloc[0]"
   ]
  },
  {
   "cell_type": "code",
   "execution_count": 6,
   "metadata": {},
   "outputs": [],
   "source": [
    "tensor = model.bow_tensor(test_article.lower().split()).to_dense().numpy()"
   ]
  },
  {
   "cell_type": "code",
   "execution_count": 7,
   "metadata": {},
   "outputs": [],
   "source": [
    "sklearn = model.sklearn_bow([test_article]).toarray()"
   ]
  },
  {
   "cell_type": "code",
   "execution_count": 8,
   "metadata": {},
   "outputs": [],
   "source": [
    "comparison = sklearn == tensor"
   ]
  },
  {
   "cell_type": "code",
   "execution_count": 9,
   "metadata": {},
   "outputs": [
    {
     "data": {
      "text/plain": [
       "(array([0, 0, 0]), array([ 53, 250, 789]))"
      ]
     },
     "execution_count": 9,
     "metadata": {},
     "output_type": "execute_result"
    }
   ],
   "source": [
    "np.where(comparison == False)"
   ]
  },
  {
   "cell_type": "code",
   "execution_count": 13,
   "metadata": {},
   "outputs": [
    {
     "data": {
      "text/plain": [
       "torch.Size([2, 956])"
      ]
     },
     "execution_count": 13,
     "metadata": {},
     "output_type": "execute_result"
    }
   ],
   "source": [
    "model.sklearn_bow_tensor([test_article, test_article]).size()"
   ]
  },
  {
   "cell_type": "code",
   "execution_count": 60,
   "metadata": {},
   "outputs": [
    {
     "data": {
      "text/plain": [
       "1"
      ]
     },
     "execution_count": 60,
     "metadata": {},
     "output_type": "execute_result"
    }
   ],
   "source": [
    "sklearn[0][53]"
   ]
  },
  {
   "cell_type": "code",
   "execution_count": 65,
   "metadata": {},
   "outputs": [
    {
     "data": {
      "text/plain": [
       "'ambulance'"
      ]
     },
     "execution_count": 65,
     "metadata": {},
     "output_type": "execute_result"
    }
   ],
   "source": [
    "model.id2token(789)"
   ]
  },
  {
   "cell_type": "code",
   "execution_count": 66,
   "metadata": {},
   "outputs": [
    {
     "name": "stdout",
     "output_type": "stream",
     "text": [
      "['an',\n",
      " 'american',\n",
      " 'tourist',\n",
      " 'has',\n",
      " 'spent',\n",
      " 'the',\n",
      " 'night',\n",
      " 'stranded',\n",
      " 'in',\n",
      " 'the',\n",
      " 'blue',\n",
      " 'mountains,',\n",
      " 'west',\n",
      " 'of',\n",
      " 'sydney,',\n",
      " 'after',\n",
      " 'she',\n",
      " 'fell',\n",
      " '15',\n",
      " 'metres',\n",
      " 'off',\n",
      " 'a',\n",
      " 'cliff',\n",
      " 'while',\n",
      " 'bushwalking.',\n",
      " 'the',\n",
      " '25-year-old',\n",
      " 'from',\n",
      " 'the',\n",
      " 'us',\n",
      " 'state',\n",
      " 'of',\n",
      " 'wisconsin',\n",
      " 'was',\n",
      " 'walking',\n",
      " 'near',\n",
      " 'pulpit',\n",
      " 'rock,',\n",
      " 'mount',\n",
      " 'victoria',\n",
      " 'with',\n",
      " 'a',\n",
      " 'group',\n",
      " 'of',\n",
      " 'friends',\n",
      " 'on',\n",
      " 'friday',\n",
      " 'when',\n",
      " 'she',\n",
      " 'slipped',\n",
      " 'from',\n",
      " 'a',\n",
      " 'track.',\n",
      " 'she',\n",
      " 'fell',\n",
      " 'about',\n",
      " '15',\n",
      " 'metres',\n",
      " 'and',\n",
      " 'rolled',\n",
      " 'a',\n",
      " 'further',\n",
      " '20',\n",
      " 'metres',\n",
      " 'down',\n",
      " 'a',\n",
      " 'steep',\n",
      " 'slope,',\n",
      " 'police',\n",
      " 'say.',\n",
      " 'rescue',\n",
      " 'teams',\n",
      " 'escort',\n",
      " 'a',\n",
      " '25-year-old',\n",
      " 'us',\n",
      " 'tourist',\n",
      " 'after',\n",
      " 'she',\n",
      " 'spent',\n",
      " 'the',\n",
      " 'night',\n",
      " 'stranded',\n",
      " 'in',\n",
      " 'the',\n",
      " 'blue',\n",
      " 'mountains',\n",
      " 'after',\n",
      " 'falling',\n",
      " '15',\n",
      " 'metres',\n",
      " 'off',\n",
      " 'a',\n",
      " 'cliff',\n",
      " '.',\n",
      " 'rescue',\n",
      " 'crews',\n",
      " 'found',\n",
      " 'the',\n",
      " 'woman',\n",
      " 'suffering',\n",
      " 'a',\n",
      " 'possible',\n",
      " 'broken',\n",
      " 'ankle',\n",
      " 'and',\n",
      " 'broken',\n",
      " 'ribs.',\n",
      " 'she',\n",
      " 'remained',\n",
      " 'with',\n",
      " 'an',\n",
      " 'ambulance',\n",
      " 'team',\n",
      " 'overnight',\n",
      " 'due',\n",
      " 'to',\n",
      " 'low',\n",
      " 'light',\n",
      " 'and',\n",
      " 'foggy',\n",
      " 'weather',\n",
      " 'conditions.',\n",
      " 'blue',\n",
      " 'mountains',\n",
      " 'police',\n",
      " 'rescue',\n",
      " 'sergeant',\n",
      " 'dallas',\n",
      " 'atkinson',\n",
      " 'told',\n",
      " 'abc',\n",
      " 'a',\n",
      " 'helicopter',\n",
      " 'was',\n",
      " 'deployed',\n",
      " 'to',\n",
      " 'finish',\n",
      " 'the',\n",
      " 'rescue',\n",
      " 'this',\n",
      " 'morning.',\n",
      " \"'after\",\n",
      " 'she',\n",
      " 'fell',\n",
      " 'yesterday',\n",
      " 'she',\n",
      " 'was',\n",
      " 'accessed',\n",
      " 'a',\n",
      " 'short',\n",
      " 'time',\n",
      " 'later',\n",
      " 'by',\n",
      " 'police',\n",
      " 'and',\n",
      " \"ambulance,'\",\n",
      " 'sergeant',\n",
      " 'atkinson',\n",
      " 'said.',\n",
      " \"'it\",\n",
      " 'was',\n",
      " 'determined',\n",
      " 'that',\n",
      " 'she',\n",
      " 'had',\n",
      " 'sustained',\n",
      " 'leg',\n",
      " 'and',\n",
      " 'chest',\n",
      " 'injuries',\n",
      " 'and',\n",
      " 'a',\n",
      " 'rescue',\n",
      " 'plan',\n",
      " 'was',\n",
      " 'put',\n",
      " 'in',\n",
      " 'place',\n",
      " 'where',\n",
      " 'the',\n",
      " 'patient',\n",
      " 'was',\n",
      " 'going',\n",
      " 'to',\n",
      " 'be',\n",
      " 'carried',\n",
      " 'out.',\n",
      " 'rescue',\n",
      " 'crews',\n",
      " 'found',\n",
      " 'the',\n",
      " 'wisconsin',\n",
      " 'woman',\n",
      " 'had',\n",
      " 'suffered',\n",
      " 'a',\n",
      " 'possible',\n",
      " 'broken',\n",
      " 'ankle',\n",
      " 'and',\n",
      " 'broken',\n",
      " 'ribs',\n",
      " '.',\n",
      " 'rescue',\n",
      " 'teams',\n",
      " 'had',\n",
      " 'to',\n",
      " 'wait',\n",
      " 'for',\n",
      " 'the',\n",
      " 'heavy',\n",
      " 'fog',\n",
      " 'to',\n",
      " 'lift',\n",
      " 'so',\n",
      " 'they',\n",
      " 'could',\n",
      " 'winch',\n",
      " 'the',\n",
      " 'woman',\n",
      " 'out',\n",
      " 'via',\n",
      " 'a',\n",
      " 'helicopter',\n",
      " '.',\n",
      " \"'but\",\n",
      " 'due',\n",
      " 'to',\n",
      " 'the',\n",
      " 'terrain',\n",
      " 'in',\n",
      " 'the',\n",
      " 'prevailing',\n",
      " 'weather',\n",
      " 'that',\n",
      " 'plan',\n",
      " 'was',\n",
      " \"aborted.'\",\n",
      " 'rescue',\n",
      " 'teams',\n",
      " 'had',\n",
      " 'to',\n",
      " 'wait',\n",
      " 'for',\n",
      " 'the',\n",
      " 'fog',\n",
      " 'to',\n",
      " 'lift',\n",
      " 'so',\n",
      " 'they',\n",
      " 'could',\n",
      " 'winch',\n",
      " 'the',\n",
      " 'woman',\n",
      " 'out',\n",
      " 'via',\n",
      " 'a',\n",
      " 'helicopter.']\n"
     ]
    }
   ],
   "source": [
    "pprint(test_article.lower().split())"
   ]
  },
  {
   "cell_type": "code",
   "execution_count": 62,
   "metadata": {},
   "outputs": [
    {
     "name": "stdout",
     "output_type": "stream",
     "text": [
      "('An American tourist has spent the night stranded in the Blue Mountains, west '\n",
      " 'of Sydney, after she fell 15 metres off a cliff while bushwalking. The '\n",
      " '25-year-old from the US state of Wisconsin was walking near Pulpit Rock, '\n",
      " 'Mount Victoria with a group of friends on Friday when she slipped from a '\n",
      " 'track. She fell about 15 metres and rolled a further 20 metres down a steep '\n",
      " 'slope, police say. Rescue teams escort a 25-year-old US tourist after she '\n",
      " 'spent the night stranded in the Blue Mountains after falling 15 metres off a '\n",
      " 'cliff . Rescue crews found the woman suffering a possible broken ankle and '\n",
      " 'broken ribs. She remained with an ambulance team overnight due to low light '\n",
      " 'and foggy weather conditions. Blue Mountains Police Rescue Sergeant Dallas '\n",
      " 'Atkinson told ABC a helicopter was deployed to finish the rescue this '\n",
      " \"morning. 'After she fell yesterday she was accessed a short time later by \"\n",
      " \"police and ambulance,' Sergeant Atkinson said. 'It was determined that she \"\n",
      " 'had sustained leg and chest injuries and a rescue plan was put in place '\n",
      " 'where the patient was going to be carried out. Rescue crews found the '\n",
      " 'Wisconsin woman had suffered a possible broken ankle and broken ribs . '\n",
      " 'Rescue teams had to wait for the heavy fog to lift so they could winch the '\n",
      " \"woman out via a helicopter . 'But due to the terrain in the prevailing \"\n",
      " \"weather that plan was aborted.' Rescue teams had to wait for the fog to lift \"\n",
      " 'so they could winch the woman out via a helicopter.')\n"
     ]
    }
   ],
   "source": [
    "from pprint import pprint\n",
    "pprint(test_article)"
   ]
  },
  {
   "cell_type": "code",
   "execution_count": null,
   "metadata": {},
   "outputs": [],
   "source": []
  }
 ],
 "metadata": {
  "kernelspec": {
   "display_name": "Python 3",
   "language": "python",
   "name": "python3"
  },
  "language_info": {
   "codemirror_mode": {
    "name": "ipython",
    "version": 3
   },
   "file_extension": ".py",
   "mimetype": "text/x-python",
   "name": "python",
   "nbconvert_exporter": "python",
   "pygments_lexer": "ipython3",
   "version": "3.9.13"
  }
 },
 "nbformat": 4,
 "nbformat_minor": 2
}
